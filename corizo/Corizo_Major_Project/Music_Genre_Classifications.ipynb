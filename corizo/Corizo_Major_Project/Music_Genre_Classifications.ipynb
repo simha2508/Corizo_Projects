{
 "cells": [
  {
   "cell_type": "markdown",
   "metadata": {
    "id": "jwBBqDXqUCru"
   },
   "source": [
    "[Dataset](https://www.kaggle.com/andradaolteanu/gtzan-dataset-music-genre-classification)"
   ]
  },
  {
   "cell_type": "code",
   "execution_count": 1,
   "metadata": {
    "execution": {
     "iopub.execute_input": "2021-06-24T12:25:44.470678Z",
     "iopub.status.busy": "2021-06-24T12:25:44.470224Z",
     "iopub.status.idle": "2021-06-24T12:25:44.479810Z",
     "shell.execute_reply": "2021-06-24T12:25:44.478249Z",
     "shell.execute_reply.started": "2021-06-24T12:25:44.470642Z"
    },
    "executionInfo": {
     "elapsed": 4,
     "status": "ok",
     "timestamp": 1624559645021,
     "user": {
      "displayName": "Deepranjan Kumar Gupta",
      "photoUrl": "https://lh3.googleusercontent.com/a-/AOh14GhczaFZivsw-TNnL0kbRqPcnzECkDPfExooHM4p=s64",
      "userId": "07698331183229555849"
     },
     "user_tz": -330
    },
    "id": "Rb3qpe0ZxRDN"
   },
   "outputs": [],
   "source": [
    "import pandas as pd\n",
    "import numpy as np\n",
    "import os\n",
    "import IPython.display as ipd\n",
    "import librosa\n",
    "import librosa.display\n",
    "import matplotlib.pyplot as plt\n",
    "%matplotlib inline"
   ]
  },
  {
   "cell_type": "code",
   "execution_count": null,
   "metadata": {},
   "outputs": [],
   "source": []
  },
  {
   "cell_type": "code",
   "execution_count": 2,
   "metadata": {
    "colab": {
     "base_uri": "https://localhost:8080/",
     "height": 207
    },
    "execution": {
     "iopub.execute_input": "2021-06-24T12:25:44.959507Z",
     "iopub.status.busy": "2021-06-24T12:25:44.959086Z",
     "iopub.status.idle": "2021-06-24T12:25:45.018214Z",
     "shell.execute_reply": "2021-06-24T12:25:45.017166Z",
     "shell.execute_reply.started": "2021-06-24T12:25:44.959466Z"
    },
    "executionInfo": {
     "elapsed": 11,
     "status": "ok",
     "timestamp": 1624559646580,
     "user": {
      "displayName": "Deepranjan Kumar Gupta",
      "photoUrl": "https://lh3.googleusercontent.com/a-/AOh14GhczaFZivsw-TNnL0kbRqPcnzECkDPfExooHM4p=s64",
      "userId": "07698331183229555849"
     },
     "user_tz": -330
    },
    "id": "-HdNI7kbxRDR",
    "outputId": "77058966-d6c1-4059-b7ba-07a0a10e63f4"
   },
   "outputs": [
    {
     "data": {
      "text/html": [
       "<div>\n",
       "<style scoped>\n",
       "    .dataframe tbody tr th:only-of-type {\n",
       "        vertical-align: middle;\n",
       "    }\n",
       "\n",
       "    .dataframe tbody tr th {\n",
       "        vertical-align: top;\n",
       "    }\n",
       "\n",
       "    .dataframe thead th {\n",
       "        text-align: right;\n",
       "    }\n",
       "</style>\n",
       "<table border=\"1\" class=\"dataframe\">\n",
       "  <thead>\n",
       "    <tr style=\"text-align: right;\">\n",
       "      <th></th>\n",
       "      <th>filename</th>\n",
       "      <th>length</th>\n",
       "      <th>chroma_stft_mean</th>\n",
       "      <th>chroma_stft_var</th>\n",
       "      <th>rms_mean</th>\n",
       "      <th>rms_var</th>\n",
       "      <th>spectral_centroid_mean</th>\n",
       "      <th>spectral_centroid_var</th>\n",
       "      <th>spectral_bandwidth_mean</th>\n",
       "      <th>spectral_bandwidth_var</th>\n",
       "      <th>...</th>\n",
       "      <th>mfcc16_var</th>\n",
       "      <th>mfcc17_mean</th>\n",
       "      <th>mfcc17_var</th>\n",
       "      <th>mfcc18_mean</th>\n",
       "      <th>mfcc18_var</th>\n",
       "      <th>mfcc19_mean</th>\n",
       "      <th>mfcc19_var</th>\n",
       "      <th>mfcc20_mean</th>\n",
       "      <th>mfcc20_var</th>\n",
       "      <th>label</th>\n",
       "    </tr>\n",
       "  </thead>\n",
       "  <tbody>\n",
       "    <tr>\n",
       "      <th>0</th>\n",
       "      <td>blues.00000.wav</td>\n",
       "      <td>661794</td>\n",
       "      <td>0.350088</td>\n",
       "      <td>0.088757</td>\n",
       "      <td>0.130228</td>\n",
       "      <td>0.002827</td>\n",
       "      <td>1784.165850</td>\n",
       "      <td>129774.064525</td>\n",
       "      <td>2002.449060</td>\n",
       "      <td>85882.761315</td>\n",
       "      <td>...</td>\n",
       "      <td>52.420910</td>\n",
       "      <td>-1.690215</td>\n",
       "      <td>36.524071</td>\n",
       "      <td>-0.408979</td>\n",
       "      <td>41.597103</td>\n",
       "      <td>-2.303523</td>\n",
       "      <td>55.062923</td>\n",
       "      <td>1.221291</td>\n",
       "      <td>46.936035</td>\n",
       "      <td>blues</td>\n",
       "    </tr>\n",
       "    <tr>\n",
       "      <th>1</th>\n",
       "      <td>blues.00001.wav</td>\n",
       "      <td>661794</td>\n",
       "      <td>0.340914</td>\n",
       "      <td>0.094980</td>\n",
       "      <td>0.095948</td>\n",
       "      <td>0.002373</td>\n",
       "      <td>1530.176679</td>\n",
       "      <td>375850.073649</td>\n",
       "      <td>2039.036516</td>\n",
       "      <td>213843.755497</td>\n",
       "      <td>...</td>\n",
       "      <td>55.356403</td>\n",
       "      <td>-0.731125</td>\n",
       "      <td>60.314529</td>\n",
       "      <td>0.295073</td>\n",
       "      <td>48.120598</td>\n",
       "      <td>-0.283518</td>\n",
       "      <td>51.106190</td>\n",
       "      <td>0.531217</td>\n",
       "      <td>45.786282</td>\n",
       "      <td>blues</td>\n",
       "    </tr>\n",
       "    <tr>\n",
       "      <th>2</th>\n",
       "      <td>blues.00002.wav</td>\n",
       "      <td>661794</td>\n",
       "      <td>0.363637</td>\n",
       "      <td>0.085275</td>\n",
       "      <td>0.175570</td>\n",
       "      <td>0.002746</td>\n",
       "      <td>1552.811865</td>\n",
       "      <td>156467.643368</td>\n",
       "      <td>1747.702312</td>\n",
       "      <td>76254.192257</td>\n",
       "      <td>...</td>\n",
       "      <td>40.598766</td>\n",
       "      <td>-7.729093</td>\n",
       "      <td>47.639427</td>\n",
       "      <td>-1.816407</td>\n",
       "      <td>52.382141</td>\n",
       "      <td>-3.439720</td>\n",
       "      <td>46.639660</td>\n",
       "      <td>-2.231258</td>\n",
       "      <td>30.573025</td>\n",
       "      <td>blues</td>\n",
       "    </tr>\n",
       "    <tr>\n",
       "      <th>3</th>\n",
       "      <td>blues.00003.wav</td>\n",
       "      <td>661794</td>\n",
       "      <td>0.404785</td>\n",
       "      <td>0.093999</td>\n",
       "      <td>0.141093</td>\n",
       "      <td>0.006346</td>\n",
       "      <td>1070.106615</td>\n",
       "      <td>184355.942417</td>\n",
       "      <td>1596.412872</td>\n",
       "      <td>166441.494769</td>\n",
       "      <td>...</td>\n",
       "      <td>44.427753</td>\n",
       "      <td>-3.319597</td>\n",
       "      <td>50.206673</td>\n",
       "      <td>0.636965</td>\n",
       "      <td>37.319130</td>\n",
       "      <td>-0.619121</td>\n",
       "      <td>37.259739</td>\n",
       "      <td>-3.407448</td>\n",
       "      <td>31.949339</td>\n",
       "      <td>blues</td>\n",
       "    </tr>\n",
       "    <tr>\n",
       "      <th>4</th>\n",
       "      <td>blues.00004.wav</td>\n",
       "      <td>661794</td>\n",
       "      <td>0.308526</td>\n",
       "      <td>0.087841</td>\n",
       "      <td>0.091529</td>\n",
       "      <td>0.002303</td>\n",
       "      <td>1835.004266</td>\n",
       "      <td>343399.939274</td>\n",
       "      <td>1748.172116</td>\n",
       "      <td>88445.209036</td>\n",
       "      <td>...</td>\n",
       "      <td>86.099236</td>\n",
       "      <td>-5.454034</td>\n",
       "      <td>75.269707</td>\n",
       "      <td>-0.916874</td>\n",
       "      <td>53.613918</td>\n",
       "      <td>-4.404827</td>\n",
       "      <td>62.910812</td>\n",
       "      <td>-11.703234</td>\n",
       "      <td>55.195160</td>\n",
       "      <td>blues</td>\n",
       "    </tr>\n",
       "  </tbody>\n",
       "</table>\n",
       "<p>5 rows × 60 columns</p>\n",
       "</div>"
      ],
      "text/plain": [
       "          filename  length  chroma_stft_mean  chroma_stft_var  rms_mean  \\\n",
       "0  blues.00000.wav  661794          0.350088         0.088757  0.130228   \n",
       "1  blues.00001.wav  661794          0.340914         0.094980  0.095948   \n",
       "2  blues.00002.wav  661794          0.363637         0.085275  0.175570   \n",
       "3  blues.00003.wav  661794          0.404785         0.093999  0.141093   \n",
       "4  blues.00004.wav  661794          0.308526         0.087841  0.091529   \n",
       "\n",
       "    rms_var  spectral_centroid_mean  spectral_centroid_var  \\\n",
       "0  0.002827             1784.165850          129774.064525   \n",
       "1  0.002373             1530.176679          375850.073649   \n",
       "2  0.002746             1552.811865          156467.643368   \n",
       "3  0.006346             1070.106615          184355.942417   \n",
       "4  0.002303             1835.004266          343399.939274   \n",
       "\n",
       "   spectral_bandwidth_mean  spectral_bandwidth_var  ...  mfcc16_var  \\\n",
       "0              2002.449060            85882.761315  ...   52.420910   \n",
       "1              2039.036516           213843.755497  ...   55.356403   \n",
       "2              1747.702312            76254.192257  ...   40.598766   \n",
       "3              1596.412872           166441.494769  ...   44.427753   \n",
       "4              1748.172116            88445.209036  ...   86.099236   \n",
       "\n",
       "   mfcc17_mean  mfcc17_var  mfcc18_mean  mfcc18_var  mfcc19_mean  mfcc19_var  \\\n",
       "0    -1.690215   36.524071    -0.408979   41.597103    -2.303523   55.062923   \n",
       "1    -0.731125   60.314529     0.295073   48.120598    -0.283518   51.106190   \n",
       "2    -7.729093   47.639427    -1.816407   52.382141    -3.439720   46.639660   \n",
       "3    -3.319597   50.206673     0.636965   37.319130    -0.619121   37.259739   \n",
       "4    -5.454034   75.269707    -0.916874   53.613918    -4.404827   62.910812   \n",
       "\n",
       "   mfcc20_mean  mfcc20_var  label  \n",
       "0     1.221291   46.936035  blues  \n",
       "1     0.531217   45.786282  blues  \n",
       "2    -2.231258   30.573025  blues  \n",
       "3    -3.407448   31.949339  blues  \n",
       "4   -11.703234   55.195160  blues  \n",
       "\n",
       "[5 rows x 60 columns]"
      ]
     },
     "execution_count": 2,
     "metadata": {},
     "output_type": "execute_result"
    }
   ],
   "source": [
    "audio_dataset_path='Data/genres_original'\n",
    "metadata=pd.read_csv('Data/features_30_sec.csv')\n",
    "metadata.head()"
   ]
  },
  {
   "cell_type": "markdown",
   "metadata": {
    "id": "NAGWSEUJBK8q"
   },
   "source": [
    "**Feature Extractor Function**\n",
    "\n",
    "Mel Frequency Cepstral Coefficients:\n",
    "\n",
    "These are state-of-the-art features used in automatic speech and speech recognition studies. There are a set of steps for generation of these features:\n",
    "\n",
    "Since the audio signals are constantly changing, first we divide these signals into smaller frames. Each frame is around 20-40 ms long\n",
    "Then we try to identify different frequencies present in each frame\n",
    "Now, separate linguistic frequencies from the noise\n",
    "To discard the noise, it then takes discrete cosine transform (DCT) of these frequencies. Using DCT we keep only a specific sequence of frequencies that have a high probability of information."
   ]
  },
  {
   "cell_type": "code",
   "execution_count": 3,
   "metadata": {
    "execution": {
     "iopub.execute_input": "2021-06-24T12:26:31.840546Z",
     "iopub.status.busy": "2021-06-24T12:26:31.840099Z",
     "iopub.status.idle": "2021-06-24T12:26:31.846431Z",
     "shell.execute_reply": "2021-06-24T12:26:31.845304Z",
     "shell.execute_reply.started": "2021-06-24T12:26:31.840506Z"
    },
    "executionInfo": {
     "elapsed": 21,
     "status": "ok",
     "timestamp": 1624559648182,
     "user": {
      "displayName": "Deepranjan Kumar Gupta",
      "photoUrl": "https://lh3.googleusercontent.com/a-/AOh14GhczaFZivsw-TNnL0kbRqPcnzECkDPfExooHM4p=s64",
      "userId": "07698331183229555849"
     },
     "user_tz": -330
    },
    "id": "PjPzMgEXxRDT"
   },
   "outputs": [],
   "source": [
    "def features_extractor(file):\n",
    "    audio, sample_rate = librosa.load(file_name, res_type='kaiser_fast') \n",
    "    mfccs_features = librosa.feature.mfcc(y=audio, sr=sample_rate, n_mfcc=40)\n",
    "    mfccs_scaled_features = np.mean(mfccs_features.T,axis=0)\n",
    "    \n",
    "    return mfccs_scaled_features"
   ]
  },
  {
   "cell_type": "code",
   "execution_count": 4,
   "metadata": {
    "execution": {
     "iopub.execute_input": "2021-06-24T12:21:39.755837Z",
     "iopub.status.busy": "2021-06-24T12:21:39.755387Z",
     "iopub.status.idle": "2021-06-24T12:21:39.763397Z",
     "shell.execute_reply": "2021-06-24T12:21:39.762125Z",
     "shell.execute_reply.started": "2021-06-24T12:21:39.755800Z"
    },
    "executionInfo": {
     "elapsed": 20,
     "status": "ok",
     "timestamp": 1624559648183,
     "user": {
      "displayName": "Deepranjan Kumar Gupta",
      "photoUrl": "https://lh3.googleusercontent.com/a-/AOh14GhczaFZivsw-TNnL0kbRqPcnzECkDPfExooHM4p=s64",
      "userId": "07698331183229555849"
     },
     "user_tz": -330
    },
    "id": "L-O0cGJmxRDT"
   },
   "outputs": [],
   "source": [
    " metadata.drop(labels=552, axis=0, inplace=True)"
   ]
  },
  {
   "cell_type": "code",
   "execution_count": 5,
   "metadata": {
    "colab": {
     "base_uri": "https://localhost:8080/"
    },
    "execution": {
     "iopub.execute_input": "2021-06-24T12:29:00.846219Z",
     "iopub.status.busy": "2021-06-24T12:29:00.845804Z",
     "iopub.status.idle": "2021-06-24T12:30:43.928238Z",
     "shell.execute_reply": "2021-06-24T12:30:43.926824Z",
     "shell.execute_reply.started": "2021-06-24T12:29:00.846178Z"
    },
    "executionInfo": {
     "elapsed": 109828,
     "status": "ok",
     "timestamp": 1624559757992,
     "user": {
      "displayName": "Deepranjan Kumar Gupta",
      "photoUrl": "https://lh3.googleusercontent.com/a-/AOh14GhczaFZivsw-TNnL0kbRqPcnzECkDPfExooHM4p=s64",
      "userId": "07698331183229555849"
     },
     "user_tz": -330
    },
    "id": "cFb6b6RlxRDU",
    "outputId": "3da5b757-c78d-4b68-dc31-f3474f7bb2d3"
   },
   "outputs": [
    {
     "name": "stderr",
     "output_type": "stream",
     "text": [
      "553it [00:31, 17.56it/s]c:\\users\\tguru\\appdata\\local\\programs\\python\\python39\\lib\\site-packages\\librosa\\util\\decorators.py:88: UserWarning: PySoundFile failed. Trying audioread instead.\n",
      "  return f(*args, **kwargs)\n",
      "557it [00:31, 17.43it/s]"
     ]
    },
    {
     "name": "stdout",
     "output_type": "stream",
     "text": [
      "Error: \n"
     ]
    },
    {
     "name": "stderr",
     "output_type": "stream",
     "text": [
      "999it [00:57, 17.30it/s]\n"
     ]
    }
   ],
   "source": [
    "from tqdm import tqdm\n",
    "### Now we iterate through every audio file and extract features \n",
    "### using Mel-Frequency Cepstral Coefficients\n",
    "\n",
    "extracted_features=[]\n",
    "for index_num,row in tqdm(metadata.iterrows()):\n",
    "    try:\n",
    "        final_class_labels=row[\"label\"]\n",
    "        file_name = os.path.join(os.path.abspath(audio_dataset_path), final_class_labels+'/',str(row[\"filename\"]))    \n",
    "        data=features_extractor(file_name)\n",
    "        extracted_features.append([data,final_class_labels])\n",
    "    except Exception as e:\n",
    "        print(f\"Error: {e}\")\n",
    "        continue"
   ]
  },
  {
   "cell_type": "code",
   "execution_count": 6,
   "metadata": {
    "colab": {
     "base_uri": "https://localhost:8080/",
     "height": 187
    },
    "execution": {
     "iopub.execute_input": "2021-06-24T12:31:05.116258Z",
     "iopub.status.busy": "2021-06-24T12:31:05.115494Z",
     "iopub.status.idle": "2021-06-24T12:31:05.138145Z",
     "shell.execute_reply": "2021-06-24T12:31:05.136850Z",
     "shell.execute_reply.started": "2021-06-24T12:31:05.116214Z"
    },
    "executionInfo": {
     "elapsed": 54,
     "status": "ok",
     "timestamp": 1624559757994,
     "user": {
      "displayName": "Deepranjan Kumar Gupta",
      "photoUrl": "https://lh3.googleusercontent.com/a-/AOh14GhczaFZivsw-TNnL0kbRqPcnzECkDPfExooHM4p=s64",
      "userId": "07698331183229555849"
     },
     "user_tz": -330
    },
    "id": "A8r5vv2mxRDV",
    "outputId": "8d180bc2-65cf-4969-9140-32ed090e80e1"
   },
   "outputs": [
    {
     "data": {
      "text/html": [
       "<div>\n",
       "<style scoped>\n",
       "    .dataframe tbody tr th:only-of-type {\n",
       "        vertical-align: middle;\n",
       "    }\n",
       "\n",
       "    .dataframe tbody tr th {\n",
       "        vertical-align: top;\n",
       "    }\n",
       "\n",
       "    .dataframe thead th {\n",
       "        text-align: right;\n",
       "    }\n",
       "</style>\n",
       "<table border=\"1\" class=\"dataframe\">\n",
       "  <thead>\n",
       "    <tr style=\"text-align: right;\">\n",
       "      <th></th>\n",
       "      <th>feature</th>\n",
       "      <th>class</th>\n",
       "    </tr>\n",
       "  </thead>\n",
       "  <tbody>\n",
       "    <tr>\n",
       "      <th>0</th>\n",
       "      <td>[-113.59882, 121.57067, -19.162262, 42.363937,...</td>\n",
       "      <td>blues</td>\n",
       "    </tr>\n",
       "    <tr>\n",
       "      <th>1</th>\n",
       "      <td>[-207.52383, 123.98514, 8.947019, 35.86715, 2....</td>\n",
       "      <td>blues</td>\n",
       "    </tr>\n",
       "    <tr>\n",
       "      <th>2</th>\n",
       "      <td>[-90.757164, 140.44087, -29.084547, 31.686693,...</td>\n",
       "      <td>blues</td>\n",
       "    </tr>\n",
       "    <tr>\n",
       "      <th>3</th>\n",
       "      <td>[-199.57513, 150.0861, 5.663404, 26.855282, 1....</td>\n",
       "      <td>blues</td>\n",
       "    </tr>\n",
       "    <tr>\n",
       "      <th>4</th>\n",
       "      <td>[-160.35417, 126.20948, -35.581394, 22.139256,...</td>\n",
       "      <td>blues</td>\n",
       "    </tr>\n",
       "  </tbody>\n",
       "</table>\n",
       "</div>"
      ],
      "text/plain": [
       "                                             feature  class\n",
       "0  [-113.59882, 121.57067, -19.162262, 42.363937,...  blues\n",
       "1  [-207.52383, 123.98514, 8.947019, 35.86715, 2....  blues\n",
       "2  [-90.757164, 140.44087, -29.084547, 31.686693,...  blues\n",
       "3  [-199.57513, 150.0861, 5.663404, 26.855282, 1....  blues\n",
       "4  [-160.35417, 126.20948, -35.581394, 22.139256,...  blues"
      ]
     },
     "execution_count": 6,
     "metadata": {},
     "output_type": "execute_result"
    }
   ],
   "source": [
    "### converting extracted_features to Pandas dataframe\n",
    "extracted_features_df=pd.DataFrame(extracted_features,columns=['feature','class'])\n",
    "extracted_features_df.head()"
   ]
  },
  {
   "cell_type": "code",
   "execution_count": 7,
   "metadata": {
    "colab": {
     "base_uri": "https://localhost:8080/"
    },
    "execution": {
     "iopub.execute_input": "2021-06-24T12:31:11.780278Z",
     "iopub.status.busy": "2021-06-24T12:31:11.779913Z",
     "iopub.status.idle": "2021-06-24T12:31:11.788379Z",
     "shell.execute_reply": "2021-06-24T12:31:11.787239Z",
     "shell.execute_reply.started": "2021-06-24T12:31:11.780247Z"
    },
    "executionInfo": {
     "elapsed": 50,
     "status": "ok",
     "timestamp": 1624559757995,
     "user": {
      "displayName": "Deepranjan Kumar Gupta",
      "photoUrl": "https://lh3.googleusercontent.com/a-/AOh14GhczaFZivsw-TNnL0kbRqPcnzECkDPfExooHM4p=s64",
      "userId": "07698331183229555849"
     },
     "user_tz": -330
    },
    "id": "URz5BuQcxRDW",
    "outputId": "4b879c42-bc20-4f1d-b7fc-0da1434e97c5"
   },
   "outputs": [
    {
     "data": {
      "text/plain": [
       "blues        100\n",
       "classical    100\n",
       "country      100\n",
       "disco        100\n",
       "hiphop       100\n",
       "metal        100\n",
       "pop          100\n",
       "reggae       100\n",
       "rock         100\n",
       "jazz          98\n",
       "Name: class, dtype: int64"
      ]
     },
     "execution_count": 7,
     "metadata": {},
     "output_type": "execute_result"
    }
   ],
   "source": [
    "extracted_features_df['class'].value_counts()"
   ]
  },
  {
   "cell_type": "markdown",
   "metadata": {
    "id": "ydSt_1CFAN7g"
   },
   "source": [
    "**Split the dataset into independent and dependent dataset**"
   ]
  },
  {
   "cell_type": "code",
   "execution_count": 8,
   "metadata": {
    "execution": {
     "iopub.execute_input": "2021-06-24T12:31:37.155436Z",
     "iopub.status.busy": "2021-06-24T12:31:37.154993Z",
     "iopub.status.idle": "2021-06-24T12:31:37.161979Z",
     "shell.execute_reply": "2021-06-24T12:31:37.161129Z",
     "shell.execute_reply.started": "2021-06-24T12:31:37.155398Z"
    },
    "executionInfo": {
     "elapsed": 45,
     "status": "ok",
     "timestamp": 1624559757997,
     "user": {
      "displayName": "Deepranjan Kumar Gupta",
      "photoUrl": "https://lh3.googleusercontent.com/a-/AOh14GhczaFZivsw-TNnL0kbRqPcnzECkDPfExooHM4p=s64",
      "userId": "07698331183229555849"
     },
     "user_tz": -330
    },
    "id": "-3CmI4OxxRDW"
   },
   "outputs": [],
   "source": [
    "X=np.array(extracted_features_df['feature'].tolist())\n",
    "y=np.array(extracted_features_df['class'].tolist())"
   ]
  },
  {
   "cell_type": "code",
   "execution_count": 9,
   "metadata": {
    "colab": {
     "base_uri": "https://localhost:8080/"
    },
    "execution": {
     "iopub.execute_input": "2021-06-24T12:31:50.855321Z",
     "iopub.status.busy": "2021-06-24T12:31:50.854733Z",
     "iopub.status.idle": "2021-06-24T12:31:50.861701Z",
     "shell.execute_reply": "2021-06-24T12:31:50.860387Z",
     "shell.execute_reply.started": "2021-06-24T12:31:50.855285Z"
    },
    "executionInfo": {
     "elapsed": 46,
     "status": "ok",
     "timestamp": 1624559757998,
     "user": {
      "displayName": "Deepranjan Kumar Gupta",
      "photoUrl": "https://lh3.googleusercontent.com/a-/AOh14GhczaFZivsw-TNnL0kbRqPcnzECkDPfExooHM4p=s64",
      "userId": "07698331183229555849"
     },
     "user_tz": -330
    },
    "id": "PFqJWNBmxRDX",
    "outputId": "47210a01-4b89-45f1-e744-ec8fa5770970"
   },
   "outputs": [
    {
     "data": {
      "text/plain": [
       "(998, 40)"
      ]
     },
     "execution_count": 9,
     "metadata": {},
     "output_type": "execute_result"
    }
   ],
   "source": [
    "X.shape"
   ]
  },
  {
   "cell_type": "code",
   "execution_count": 10,
   "metadata": {
    "execution": {
     "iopub.execute_input": "2021-06-24T12:32:06.400042Z",
     "iopub.status.busy": "2021-06-24T12:32:06.399679Z",
     "iopub.status.idle": "2021-06-24T12:32:06.408551Z",
     "shell.execute_reply": "2021-06-24T12:32:06.407550Z",
     "shell.execute_reply.started": "2021-06-24T12:32:06.400013Z"
    },
    "executionInfo": {
     "elapsed": 44,
     "status": "ok",
     "timestamp": 1624559757999,
     "user": {
      "displayName": "Deepranjan Kumar Gupta",
      "photoUrl": "https://lh3.googleusercontent.com/a-/AOh14GhczaFZivsw-TNnL0kbRqPcnzECkDPfExooHM4p=s64",
      "userId": "07698331183229555849"
     },
     "user_tz": -330
    },
    "id": "iyXQuBxaxRDX"
   },
   "outputs": [],
   "source": [
    "from tensorflow.keras.utils import to_categorical\n",
    "from sklearn.preprocessing import LabelEncoder\n",
    "labelencoder=LabelEncoder()\n",
    "y=to_categorical(labelencoder.fit_transform(y))"
   ]
  },
  {
   "cell_type": "code",
   "execution_count": 11,
   "metadata": {
    "colab": {
     "base_uri": "https://localhost:8080/"
    },
    "execution": {
     "iopub.execute_input": "2021-06-24T12:32:15.080430Z",
     "iopub.status.busy": "2021-06-24T12:32:15.080021Z",
     "iopub.status.idle": "2021-06-24T12:32:15.087480Z",
     "shell.execute_reply": "2021-06-24T12:32:15.086162Z",
     "shell.execute_reply.started": "2021-06-24T12:32:15.080396Z"
    },
    "executionInfo": {
     "elapsed": 44,
     "status": "ok",
     "timestamp": 1624559758000,
     "user": {
      "displayName": "Deepranjan Kumar Gupta",
      "photoUrl": "https://lh3.googleusercontent.com/a-/AOh14GhczaFZivsw-TNnL0kbRqPcnzECkDPfExooHM4p=s64",
      "userId": "07698331183229555849"
     },
     "user_tz": -330
    },
    "id": "zskm3UCbxRDX",
    "outputId": "46c73d3e-3a97-499d-9aed-c10b76fc3adb"
   },
   "outputs": [
    {
     "data": {
      "text/plain": [
       "(998, 10)"
      ]
     },
     "execution_count": 11,
     "metadata": {},
     "output_type": "execute_result"
    }
   ],
   "source": [
    "y.shape"
   ]
  },
  {
   "cell_type": "markdown",
   "metadata": {
    "id": "vHNPVn4tAVrN"
   },
   "source": [
    "**Train Test Split**"
   ]
  },
  {
   "cell_type": "code",
   "execution_count": 12,
   "metadata": {
    "execution": {
     "iopub.execute_input": "2021-06-24T12:48:04.747288Z",
     "iopub.status.busy": "2021-06-24T12:48:04.746866Z",
     "iopub.status.idle": "2021-06-24T12:48:04.755032Z",
     "shell.execute_reply": "2021-06-24T12:48:04.754019Z",
     "shell.execute_reply.started": "2021-06-24T12:48:04.747252Z"
    },
    "executionInfo": {
     "elapsed": 43,
     "status": "ok",
     "timestamp": 1624559758002,
     "user": {
      "displayName": "Deepranjan Kumar Gupta",
      "photoUrl": "https://lh3.googleusercontent.com/a-/AOh14GhczaFZivsw-TNnL0kbRqPcnzECkDPfExooHM4p=s64",
      "userId": "07698331183229555849"
     },
     "user_tz": -330
    },
    "id": "xaQrsxaDxRDY"
   },
   "outputs": [],
   "source": [
    "from sklearn.model_selection import train_test_split\n",
    "X_train,X_test,y_train,y_test=train_test_split(X,y,test_size=0.2,random_state=0)"
   ]
  },
  {
   "cell_type": "code",
   "execution_count": 13,
   "metadata": {
    "colab": {
     "base_uri": "https://localhost:8080/"
    },
    "execution": {
     "iopub.execute_input": "2021-06-24T12:48:12.432998Z",
     "iopub.status.busy": "2021-06-24T12:48:12.432561Z",
     "iopub.status.idle": "2021-06-24T12:48:12.440370Z",
     "shell.execute_reply": "2021-06-24T12:48:12.439535Z",
     "shell.execute_reply.started": "2021-06-24T12:48:12.432961Z"
    },
    "executionInfo": {
     "elapsed": 43,
     "status": "ok",
     "timestamp": 1624559758003,
     "user": {
      "displayName": "Deepranjan Kumar Gupta",
      "photoUrl": "https://lh3.googleusercontent.com/a-/AOh14GhczaFZivsw-TNnL0kbRqPcnzECkDPfExooHM4p=s64",
      "userId": "07698331183229555849"
     },
     "user_tz": -330
    },
    "id": "KTR2QCktxRDY",
    "outputId": "37549e06-3837-4550-e68f-95b19e6dacd9"
   },
   "outputs": [
    {
     "data": {
      "text/plain": [
       "array([[-1.04723763e+02,  8.77537155e+01, -3.32488594e+01, ...,\n",
       "        -2.38248777e+00, -1.36347127e+00, -7.22123563e-01],\n",
       "       [-2.59909851e+02,  1.23193169e+02, -6.39508581e+00, ...,\n",
       "        -6.73697758e+00, -3.90829563e+00,  3.18117642e+00],\n",
       "       [-1.15755066e+02,  6.70791245e+01,  1.88346803e+00, ...,\n",
       "        -3.43661404e+00, -1.73870683e+00, -4.68738899e-02],\n",
       "       ...,\n",
       "       [-1.25020428e+01,  9.13173676e+01, -2.30759563e+01, ...,\n",
       "        -4.04763937e+00, -1.77685583e+00, -1.75431299e+00],\n",
       "       [-2.37930965e+01,  8.29835587e+01,  2.32049251e+00, ...,\n",
       "         1.40550280e+00,  4.16220367e-01, -3.45980115e-02],\n",
       "       [-9.63197021e+01,  9.09497147e+01, -3.22195396e+01, ...,\n",
       "        -2.41483903e+00, -1.62698343e-01, -1.84749973e+00]], dtype=float32)"
      ]
     },
     "execution_count": 13,
     "metadata": {},
     "output_type": "execute_result"
    }
   ],
   "source": [
    "X_train"
   ]
  },
  {
   "cell_type": "code",
   "execution_count": 14,
   "metadata": {
    "colab": {
     "base_uri": "https://localhost:8080/"
    },
    "execution": {
     "iopub.execute_input": "2021-06-24T12:49:00.202747Z",
     "iopub.status.busy": "2021-06-24T12:49:00.202289Z",
     "iopub.status.idle": "2021-06-24T12:49:00.209534Z",
     "shell.execute_reply": "2021-06-24T12:49:00.208313Z",
     "shell.execute_reply.started": "2021-06-24T12:49:00.202710Z"
    },
    "executionInfo": {
     "elapsed": 41,
     "status": "ok",
     "timestamp": 1624559758004,
     "user": {
      "displayName": "Deepranjan Kumar Gupta",
      "photoUrl": "https://lh3.googleusercontent.com/a-/AOh14GhczaFZivsw-TNnL0kbRqPcnzECkDPfExooHM4p=s64",
      "userId": "07698331183229555849"
     },
     "user_tz": -330
    },
    "id": "281ZfFk4xRDZ",
    "outputId": "b0b9d607-233d-4711-dd69-00da1d49f981"
   },
   "outputs": [
    {
     "name": "stdout",
     "output_type": "stream",
     "text": [
      "(798, 40)\n",
      "(200, 40)\n",
      "(798, 10)\n",
      "(200, 10)\n"
     ]
    }
   ],
   "source": [
    "print(X_train.shape)\n",
    "print(X_test.shape)\n",
    "print(y_train.shape)\n",
    "print(y_test.shape)"
   ]
  },
  {
   "cell_type": "code",
   "execution_count": 15,
   "metadata": {
    "colab": {
     "base_uri": "https://localhost:8080/"
    },
    "execution": {
     "iopub.execute_input": "2021-06-24T12:38:50.435667Z",
     "iopub.status.busy": "2021-06-24T12:38:50.435159Z",
     "iopub.status.idle": "2021-06-24T12:38:56.030604Z",
     "shell.execute_reply": "2021-06-24T12:38:56.029138Z",
     "shell.execute_reply.started": "2021-06-24T12:38:50.435628Z"
    },
    "executionInfo": {
     "elapsed": 39,
     "status": "ok",
     "timestamp": 1624559758005,
     "user": {
      "displayName": "Deepranjan Kumar Gupta",
      "photoUrl": "https://lh3.googleusercontent.com/a-/AOh14GhczaFZivsw-TNnL0kbRqPcnzECkDPfExooHM4p=s64",
      "userId": "07698331183229555849"
     },
     "user_tz": -330
    },
    "id": "E8-4uAo5xRDZ",
    "outputId": "818cc322-a76c-44e7-d290-aa5d3c2e55f3"
   },
   "outputs": [
    {
     "name": "stdout",
     "output_type": "stream",
     "text": [
      "2.5.0\n"
     ]
    }
   ],
   "source": [
    "import tensorflow as tf\n",
    "print(tf.__version__)"
   ]
  },
  {
   "cell_type": "code",
   "execution_count": 16,
   "metadata": {
    "execution": {
     "iopub.execute_input": "2021-06-24T12:39:01.466860Z",
     "iopub.status.busy": "2021-06-24T12:39:01.466466Z",
     "iopub.status.idle": "2021-06-24T12:39:01.471687Z",
     "shell.execute_reply": "2021-06-24T12:39:01.470823Z",
     "shell.execute_reply.started": "2021-06-24T12:39:01.466828Z"
    },
    "executionInfo": {
     "elapsed": 37,
     "status": "ok",
     "timestamp": 1624559758006,
     "user": {
      "displayName": "Deepranjan Kumar Gupta",
      "photoUrl": "https://lh3.googleusercontent.com/a-/AOh14GhczaFZivsw-TNnL0kbRqPcnzECkDPfExooHM4p=s64",
      "userId": "07698331183229555849"
     },
     "user_tz": -330
    },
    "id": "Cq0U-hs9xRDZ"
   },
   "outputs": [],
   "source": [
    "from tensorflow.keras.models import Sequential\n",
    "from tensorflow.keras.layers import Dense,Dropout,Activation,Flatten\n",
    "from tensorflow.keras.optimizers import Adam\n",
    "from sklearn import metrics"
   ]
  },
  {
   "cell_type": "code",
   "execution_count": 17,
   "metadata": {
    "execution": {
     "iopub.execute_input": "2021-06-24T12:39:09.810915Z",
     "iopub.status.busy": "2021-06-24T12:39:09.810299Z",
     "iopub.status.idle": "2021-06-24T12:39:09.815716Z",
     "shell.execute_reply": "2021-06-24T12:39:09.814269Z",
     "shell.execute_reply.started": "2021-06-24T12:39:09.810861Z"
    },
    "executionInfo": {
     "elapsed": 38,
     "status": "ok",
     "timestamp": 1624559758008,
     "user": {
      "displayName": "Deepranjan Kumar Gupta",
      "photoUrl": "https://lh3.googleusercontent.com/a-/AOh14GhczaFZivsw-TNnL0kbRqPcnzECkDPfExooHM4p=s64",
      "userId": "07698331183229555849"
     },
     "user_tz": -330
    },
    "id": "lJ_9wuW5xRDa"
   },
   "outputs": [],
   "source": [
    "### No of classes\n",
    "num_labels=y.shape[1]"
   ]
  },
  {
   "cell_type": "code",
   "execution_count": 18,
   "metadata": {
    "colab": {
     "base_uri": "https://localhost:8080/"
    },
    "executionInfo": {
     "elapsed": 484,
     "status": "ok",
     "timestamp": 1624561057104,
     "user": {
      "displayName": "Deepranjan Kumar Gupta",
      "photoUrl": "https://lh3.googleusercontent.com/a-/AOh14GhczaFZivsw-TNnL0kbRqPcnzECkDPfExooHM4p=s64",
      "userId": "07698331183229555849"
     },
     "user_tz": -330
    },
    "id": "egHQq8FdYmy-",
    "outputId": "ca37e3f3-6733-42f4-f331-e451c68cb40d"
   },
   "outputs": [
    {
     "data": {
      "text/plain": [
       "10"
      ]
     },
     "execution_count": 18,
     "metadata": {},
     "output_type": "execute_result"
    }
   ],
   "source": [
    "y.shape[1]"
   ]
  },
  {
   "cell_type": "code",
   "execution_count": 19,
   "metadata": {
    "execution": {
     "iopub.execute_input": "2021-06-24T12:47:10.103325Z",
     "iopub.status.busy": "2021-06-24T12:47:10.102561Z",
     "iopub.status.idle": "2021-06-24T12:47:10.248071Z",
     "shell.execute_reply": "2021-06-24T12:47:10.246816Z",
     "shell.execute_reply.started": "2021-06-24T12:47:10.103267Z"
    },
    "executionInfo": {
     "elapsed": 661,
     "status": "ok",
     "timestamp": 1624559928292,
     "user": {
      "displayName": "Deepranjan Kumar Gupta",
      "photoUrl": "https://lh3.googleusercontent.com/a-/AOh14GhczaFZivsw-TNnL0kbRqPcnzECkDPfExooHM4p=s64",
      "userId": "07698331183229555849"
     },
     "user_tz": -330
    },
    "id": "AjueidgQxRDa"
   },
   "outputs": [],
   "source": [
    "model=Sequential()\n",
    "model.add(Dense(1024,input_shape=(40,), activation=\"relu\"))\n",
    "model.add(Dropout(0.3))\n",
    "model.add(Dense(512, activation=\"relu\"))\n",
    "model.add(Dropout(0.3))\n",
    "model.add(Dense(256, activation=\"relu\"))\n",
    "model.add(Dropout(0.3))\n",
    "model.add(Dense(128, activation=\"relu\"))\n",
    "model.add(Dropout(0.3))\n",
    "model.add(Dense(64, activation=\"relu\"))\n",
    "model.add(Dropout(0.3))\n",
    "model.add(Dense(32, activation=\"relu\"))\n",
    "model.add(Dropout(0.3))\n",
    "\n",
    "###final layer\n",
    "model.add(Dense(num_labels, activation=\"softmax\"))"
   ]
  },
  {
   "cell_type": "code",
   "execution_count": 20,
   "metadata": {
    "colab": {
     "base_uri": "https://localhost:8080/"
    },
    "execution": {
     "iopub.execute_input": "2021-06-24T12:49:48.845534Z",
     "iopub.status.busy": "2021-06-24T12:49:48.845111Z",
     "iopub.status.idle": "2021-06-24T12:49:48.860859Z",
     "shell.execute_reply": "2021-06-24T12:49:48.859803Z",
     "shell.execute_reply.started": "2021-06-24T12:49:48.845495Z"
    },
    "executionInfo": {
     "elapsed": 6,
     "status": "ok",
     "timestamp": 1624559928293,
     "user": {
      "displayName": "Deepranjan Kumar Gupta",
      "photoUrl": "https://lh3.googleusercontent.com/a-/AOh14GhczaFZivsw-TNnL0kbRqPcnzECkDPfExooHM4p=s64",
      "userId": "07698331183229555849"
     },
     "user_tz": -330
    },
    "id": "N9eQ2vGLxRDa",
    "outputId": "2c976823-e343-4a8a-d90d-d3aa897c6deb"
   },
   "outputs": [
    {
     "name": "stdout",
     "output_type": "stream",
     "text": [
      "Model: \"sequential\"\n",
      "_________________________________________________________________\n",
      "Layer (type)                 Output Shape              Param #   \n",
      "=================================================================\n",
      "dense (Dense)                (None, 1024)              41984     \n",
      "_________________________________________________________________\n",
      "dropout (Dropout)            (None, 1024)              0         \n",
      "_________________________________________________________________\n",
      "dense_1 (Dense)              (None, 512)               524800    \n",
      "_________________________________________________________________\n",
      "dropout_1 (Dropout)          (None, 512)               0         \n",
      "_________________________________________________________________\n",
      "dense_2 (Dense)              (None, 256)               131328    \n",
      "_________________________________________________________________\n",
      "dropout_2 (Dropout)          (None, 256)               0         \n",
      "_________________________________________________________________\n",
      "dense_3 (Dense)              (None, 128)               32896     \n",
      "_________________________________________________________________\n",
      "dropout_3 (Dropout)          (None, 128)               0         \n",
      "_________________________________________________________________\n",
      "dense_4 (Dense)              (None, 64)                8256      \n",
      "_________________________________________________________________\n",
      "dropout_4 (Dropout)          (None, 64)                0         \n",
      "_________________________________________________________________\n",
      "dense_5 (Dense)              (None, 32)                2080      \n",
      "_________________________________________________________________\n",
      "dropout_5 (Dropout)          (None, 32)                0         \n",
      "_________________________________________________________________\n",
      "dense_6 (Dense)              (None, 10)                330       \n",
      "=================================================================\n",
      "Total params: 741,674\n",
      "Trainable params: 741,674\n",
      "Non-trainable params: 0\n",
      "_________________________________________________________________\n"
     ]
    }
   ],
   "source": [
    "model.summary()"
   ]
  },
  {
   "cell_type": "code",
   "execution_count": 21,
   "metadata": {
    "execution": {
     "iopub.execute_input": "2021-06-24T12:49:58.593476Z",
     "iopub.status.busy": "2021-06-24T12:49:58.593043Z",
     "iopub.status.idle": "2021-06-24T12:49:58.613245Z",
     "shell.execute_reply": "2021-06-24T12:49:58.612126Z",
     "shell.execute_reply.started": "2021-06-24T12:49:58.593439Z"
    },
    "executionInfo": {
     "elapsed": 7,
     "status": "ok",
     "timestamp": 1624559928904,
     "user": {
      "displayName": "Deepranjan Kumar Gupta",
      "photoUrl": "https://lh3.googleusercontent.com/a-/AOh14GhczaFZivsw-TNnL0kbRqPcnzECkDPfExooHM4p=s64",
      "userId": "07698331183229555849"
     },
     "user_tz": -330
    },
    "id": "PabF0zEdxRDb"
   },
   "outputs": [],
   "source": [
    "model.compile(loss='categorical_crossentropy',metrics=['accuracy'],optimizer='adam')"
   ]
  },
  {
   "cell_type": "code",
   "execution_count": 22,
   "metadata": {
    "colab": {
     "base_uri": "https://localhost:8080/"
    },
    "execution": {
     "iopub.execute_input": "2021-06-24T12:53:47.508599Z",
     "iopub.status.busy": "2021-06-24T12:53:47.508200Z",
     "iopub.status.idle": "2021-06-24T12:54:06.613096Z",
     "shell.execute_reply": "2021-06-24T12:54:06.611613Z",
     "shell.execute_reply.started": "2021-06-24T12:53:47.508546Z"
    },
    "executionInfo": {
     "elapsed": 83130,
     "status": "ok",
     "timestamp": 1624560015692,
     "user": {
      "displayName": "Deepranjan Kumar Gupta",
      "photoUrl": "https://lh3.googleusercontent.com/a-/AOh14GhczaFZivsw-TNnL0kbRqPcnzECkDPfExooHM4p=s64",
      "userId": "07698331183229555849"
     },
     "user_tz": -330
    },
    "id": "NxrtNNvBxRDb",
    "outputId": "24aa4de7-46f9-4b53-b945-5458272f5a42"
   },
   "outputs": [
    {
     "name": "stdout",
     "output_type": "stream",
     "text": [
      "Epoch 1/100\n",
      "25/25 [==============================] - 1s 19ms/step - loss: 4.7459 - accuracy: 0.1040 - val_loss: 2.3372 - val_accuracy: 0.0600\n",
      "\n",
      "Epoch 00001: val_loss improved from inf to 2.33722, saving model to saved_models\\audio_classification_.hdf5\n",
      "Epoch 2/100\n",
      "25/25 [==============================] - 0s 10ms/step - loss: 2.7134 - accuracy: 0.1015 - val_loss: 2.2738 - val_accuracy: 0.1200\n",
      "\n",
      "Epoch 00002: val_loss improved from 2.33722 to 2.27376, saving model to saved_models\\audio_classification_.hdf5\n",
      "Epoch 3/100\n",
      "25/25 [==============================] - 0s 13ms/step - loss: 2.3723 - accuracy: 0.1341 - val_loss: 2.2479 - val_accuracy: 0.1100\n",
      "\n",
      "Epoch 00003: val_loss improved from 2.27376 to 2.24786, saving model to saved_models\\audio_classification_.hdf5\n",
      "Epoch 4/100\n",
      "25/25 [==============================] - 0s 10ms/step - loss: 2.3108 - accuracy: 0.1491 - val_loss: 2.2099 - val_accuracy: 0.1350\n",
      "\n",
      "Epoch 00004: val_loss improved from 2.24786 to 2.20986, saving model to saved_models\\audio_classification_.hdf5\n",
      "Epoch 5/100\n",
      "25/25 [==============================] - 0s 14ms/step - loss: 2.2583 - accuracy: 0.1591 - val_loss: 2.1540 - val_accuracy: 0.1750\n",
      "\n",
      "Epoch 00005: val_loss improved from 2.20986 to 2.15404, saving model to saved_models\\audio_classification_.hdf5\n",
      "Epoch 6/100\n",
      "25/25 [==============================] - 0s 13ms/step - loss: 2.2348 - accuracy: 0.1692 - val_loss: 2.1524 - val_accuracy: 0.2200\n",
      "\n",
      "Epoch 00006: val_loss improved from 2.15404 to 2.15239, saving model to saved_models\\audio_classification_.hdf5\n",
      "Epoch 7/100\n",
      "25/25 [==============================] - 0s 14ms/step - loss: 2.1600 - accuracy: 0.1880 - val_loss: 2.1218 - val_accuracy: 0.1900\n",
      "\n",
      "Epoch 00007: val_loss improved from 2.15239 to 2.12183, saving model to saved_models\\audio_classification_.hdf5\n",
      "Epoch 8/100\n",
      "25/25 [==============================] - 0s 11ms/step - loss: 2.2076 - accuracy: 0.1779 - val_loss: 2.0957 - val_accuracy: 0.1950\n",
      "\n",
      "Epoch 00008: val_loss improved from 2.12183 to 2.09570, saving model to saved_models\\audio_classification_.hdf5\n",
      "Epoch 9/100\n",
      "25/25 [==============================] - 0s 11ms/step - loss: 2.1960 - accuracy: 0.1830 - val_loss: 2.0281 - val_accuracy: 0.2250\n",
      "\n",
      "Epoch 00009: val_loss improved from 2.09570 to 2.02805, saving model to saved_models\\audio_classification_.hdf5\n",
      "Epoch 10/100\n",
      "25/25 [==============================] - 0s 13ms/step - loss: 2.1271 - accuracy: 0.1905 - val_loss: 2.0270 - val_accuracy: 0.2450\n",
      "\n",
      "Epoch 00010: val_loss improved from 2.02805 to 2.02697, saving model to saved_models\\audio_classification_.hdf5\n",
      "Epoch 11/100\n",
      "25/25 [==============================] - 0s 10ms/step - loss: 2.1072 - accuracy: 0.2043 - val_loss: 2.0350 - val_accuracy: 0.2050\n",
      "\n",
      "Epoch 00011: val_loss did not improve from 2.02697\n",
      "Epoch 12/100\n",
      "25/25 [==============================] - 0s 10ms/step - loss: 2.0503 - accuracy: 0.2193 - val_loss: 1.9890 - val_accuracy: 0.2300\n",
      "\n",
      "Epoch 00012: val_loss improved from 2.02697 to 1.98898, saving model to saved_models\\audio_classification_.hdf5\n",
      "Epoch 13/100\n",
      "25/25 [==============================] - 0s 12ms/step - loss: 2.0605 - accuracy: 0.2343 - val_loss: 1.9364 - val_accuracy: 0.2650\n",
      "\n",
      "Epoch 00013: val_loss improved from 1.98898 to 1.93638, saving model to saved_models\\audio_classification_.hdf5\n",
      "Epoch 14/100\n",
      "25/25 [==============================] - 0s 11ms/step - loss: 2.0372 - accuracy: 0.2381 - val_loss: 2.0454 - val_accuracy: 0.2800\n",
      "\n",
      "Epoch 00014: val_loss did not improve from 1.93638\n",
      "Epoch 15/100\n",
      "25/25 [==============================] - 0s 10ms/step - loss: 2.0317 - accuracy: 0.2343 - val_loss: 1.9302 - val_accuracy: 0.2650\n",
      "\n",
      "Epoch 00015: val_loss improved from 1.93638 to 1.93023, saving model to saved_models\\audio_classification_.hdf5\n",
      "Epoch 16/100\n",
      "25/25 [==============================] - 0s 14ms/step - loss: 2.0059 - accuracy: 0.2419 - val_loss: 1.9456 - val_accuracy: 0.3050\n",
      "\n",
      "Epoch 00016: val_loss did not improve from 1.93023\n",
      "Epoch 17/100\n",
      "25/25 [==============================] - 0s 10ms/step - loss: 2.0113 - accuracy: 0.2506 - val_loss: 1.8843 - val_accuracy: 0.3200\n",
      "\n",
      "Epoch 00017: val_loss improved from 1.93023 to 1.88433, saving model to saved_models\\audio_classification_.hdf5\n",
      "Epoch 18/100\n",
      "25/25 [==============================] - 0s 10ms/step - loss: 1.9398 - accuracy: 0.2657 - val_loss: 1.8874 - val_accuracy: 0.3400\n",
      "\n",
      "Epoch 00018: val_loss did not improve from 1.88433\n",
      "Epoch 19/100\n",
      "25/25 [==============================] - 0s 11ms/step - loss: 1.9074 - accuracy: 0.2895 - val_loss: 1.7926 - val_accuracy: 0.3400\n",
      "\n",
      "Epoch 00019: val_loss improved from 1.88433 to 1.79258, saving model to saved_models\\audio_classification_.hdf5\n",
      "Epoch 20/100\n",
      "25/25 [==============================] - 0s 10ms/step - loss: 1.9175 - accuracy: 0.2782 - val_loss: 1.7964 - val_accuracy: 0.3300\n",
      "\n",
      "Epoch 00020: val_loss did not improve from 1.79258\n",
      "Epoch 21/100\n",
      "25/25 [==============================] - 0s 11ms/step - loss: 1.8687 - accuracy: 0.3233 - val_loss: 1.7320 - val_accuracy: 0.3300\n",
      "\n",
      "Epoch 00021: val_loss improved from 1.79258 to 1.73205, saving model to saved_models\\audio_classification_.hdf5\n",
      "Epoch 22/100\n",
      "25/25 [==============================] - 0s 11ms/step - loss: 1.8524 - accuracy: 0.3158 - val_loss: 1.7136 - val_accuracy: 0.3750\n",
      "\n",
      "Epoch 00022: val_loss improved from 1.73205 to 1.71362, saving model to saved_models\\audio_classification_.hdf5\n",
      "Epoch 23/100\n",
      "25/25 [==============================] - 0s 10ms/step - loss: 1.7962 - accuracy: 0.3233 - val_loss: 1.6847 - val_accuracy: 0.3600\n",
      "\n",
      "Epoch 00023: val_loss improved from 1.71362 to 1.68474, saving model to saved_models\\audio_classification_.hdf5\n",
      "Epoch 24/100\n",
      "25/25 [==============================] - 0s 10ms/step - loss: 1.7363 - accuracy: 0.3584 - val_loss: 1.6281 - val_accuracy: 0.3650\n",
      "\n",
      "Epoch 00024: val_loss improved from 1.68474 to 1.62807, saving model to saved_models\\audio_classification_.hdf5\n",
      "Epoch 25/100\n",
      "25/25 [==============================] - 0s 11ms/step - loss: 1.7361 - accuracy: 0.3496 - val_loss: 1.7097 - val_accuracy: 0.3900\n",
      "\n",
      "Epoch 00025: val_loss did not improve from 1.62807\n",
      "Epoch 26/100\n",
      "25/25 [==============================] - 0s 14ms/step - loss: 1.7701 - accuracy: 0.3396 - val_loss: 1.6928 - val_accuracy: 0.3500\n",
      "\n",
      "Epoch 00026: val_loss did not improve from 1.62807\n",
      "Epoch 27/100\n",
      "25/25 [==============================] - 0s 10ms/step - loss: 1.7049 - accuracy: 0.3697 - val_loss: 1.5934 - val_accuracy: 0.3950\n",
      "\n",
      "Epoch 00027: val_loss improved from 1.62807 to 1.59338, saving model to saved_models\\audio_classification_.hdf5\n",
      "Epoch 28/100\n",
      "25/25 [==============================] - 0s 13ms/step - loss: 1.6980 - accuracy: 0.3484 - val_loss: 1.6480 - val_accuracy: 0.3600\n",
      "\n",
      "Epoch 00028: val_loss did not improve from 1.59338\n",
      "Epoch 29/100\n",
      "25/25 [==============================] - 0s 14ms/step - loss: 1.7047 - accuracy: 0.3634 - val_loss: 1.7008 - val_accuracy: 0.4000\n",
      "\n",
      "Epoch 00029: val_loss did not improve from 1.59338\n",
      "Epoch 30/100\n",
      "25/25 [==============================] - 0s 11ms/step - loss: 1.6675 - accuracy: 0.3647 - val_loss: 1.6224 - val_accuracy: 0.4200\n",
      "\n",
      "Epoch 00030: val_loss did not improve from 1.59338\n",
      "Epoch 31/100\n",
      "25/25 [==============================] - 0s 11ms/step - loss: 1.6107 - accuracy: 0.3772 - val_loss: 1.7070 - val_accuracy: 0.3600\n",
      "\n",
      "Epoch 00031: val_loss did not improve from 1.59338\n",
      "Epoch 32/100\n",
      "25/25 [==============================] - 0s 11ms/step - loss: 1.6213 - accuracy: 0.3897 - val_loss: 1.6585 - val_accuracy: 0.4150\n",
      "\n",
      "Epoch 00032: val_loss did not improve from 1.59338\n",
      "Epoch 33/100\n",
      "25/25 [==============================] - 0s 11ms/step - loss: 1.6271 - accuracy: 0.3835 - val_loss: 1.6300 - val_accuracy: 0.3950\n",
      "\n",
      "Epoch 00033: val_loss did not improve from 1.59338\n",
      "Epoch 34/100\n",
      "25/25 [==============================] - 0s 11ms/step - loss: 1.5642 - accuracy: 0.4123 - val_loss: 1.6557 - val_accuracy: 0.4400\n",
      "\n",
      "Epoch 00034: val_loss did not improve from 1.59338\n",
      "Epoch 35/100\n",
      "25/25 [==============================] - 0s 10ms/step - loss: 1.5687 - accuracy: 0.4123 - val_loss: 1.6209 - val_accuracy: 0.4700\n",
      "\n",
      "Epoch 00035: val_loss did not improve from 1.59338\n",
      "Epoch 36/100\n",
      "25/25 [==============================] - 0s 11ms/step - loss: 1.5726 - accuracy: 0.4148 - val_loss: 1.5812 - val_accuracy: 0.4500\n",
      "\n",
      "Epoch 00036: val_loss improved from 1.59338 to 1.58119, saving model to saved_models\\audio_classification_.hdf5\n"
     ]
    },
    {
     "name": "stdout",
     "output_type": "stream",
     "text": [
      "Epoch 37/100\n",
      "25/25 [==============================] - 0s 10ms/step - loss: 1.5416 - accuracy: 0.4211 - val_loss: 1.6598 - val_accuracy: 0.4250\n",
      "\n",
      "Epoch 00037: val_loss did not improve from 1.58119\n",
      "Epoch 38/100\n",
      "25/25 [==============================] - 0s 10ms/step - loss: 1.5326 - accuracy: 0.4123 - val_loss: 1.6026 - val_accuracy: 0.4700\n",
      "\n",
      "Epoch 00038: val_loss did not improve from 1.58119\n",
      "Epoch 39/100\n",
      "25/25 [==============================] - 0s 10ms/step - loss: 1.5049 - accuracy: 0.4223 - val_loss: 1.5259 - val_accuracy: 0.4500\n",
      "\n",
      "Epoch 00039: val_loss improved from 1.58119 to 1.52589, saving model to saved_models\\audio_classification_.hdf5\n",
      "Epoch 40/100\n",
      "25/25 [==============================] - 0s 10ms/step - loss: 1.5310 - accuracy: 0.4298 - val_loss: 1.5867 - val_accuracy: 0.5050\n",
      "\n",
      "Epoch 00040: val_loss did not improve from 1.52589\n",
      "Epoch 41/100\n",
      "25/25 [==============================] - 0s 10ms/step - loss: 1.4667 - accuracy: 0.4474 - val_loss: 1.5991 - val_accuracy: 0.4850\n",
      "\n",
      "Epoch 00041: val_loss did not improve from 1.52589\n",
      "Epoch 42/100\n",
      "25/25 [==============================] - 0s 10ms/step - loss: 1.4627 - accuracy: 0.4449 - val_loss: 1.5834 - val_accuracy: 0.5300\n",
      "\n",
      "Epoch 00042: val_loss did not improve from 1.52589\n",
      "Epoch 43/100\n",
      "25/25 [==============================] - 0s 10ms/step - loss: 1.4351 - accuracy: 0.4649 - val_loss: 1.6065 - val_accuracy: 0.4300\n",
      "\n",
      "Epoch 00043: val_loss did not improve from 1.52589\n",
      "Epoch 44/100\n",
      "25/25 [==============================] - 0s 10ms/step - loss: 1.4738 - accuracy: 0.4373 - val_loss: 1.5774 - val_accuracy: 0.4550\n",
      "\n",
      "Epoch 00044: val_loss did not improve from 1.52589\n",
      "Epoch 45/100\n",
      "25/25 [==============================] - 0s 10ms/step - loss: 1.4533 - accuracy: 0.4398 - val_loss: 1.5319 - val_accuracy: 0.5000\n",
      "\n",
      "Epoch 00045: val_loss did not improve from 1.52589\n",
      "Epoch 46/100\n",
      "25/25 [==============================] - 0s 10ms/step - loss: 1.3933 - accuracy: 0.4737 - val_loss: 1.5982 - val_accuracy: 0.4300\n",
      "\n",
      "Epoch 00046: val_loss did not improve from 1.52589\n",
      "Epoch 47/100\n",
      "25/25 [==============================] - 0s 10ms/step - loss: 1.3654 - accuracy: 0.4737 - val_loss: 1.5128 - val_accuracy: 0.4900\n",
      "\n",
      "Epoch 00047: val_loss improved from 1.52589 to 1.51282, saving model to saved_models\\audio_classification_.hdf5\n",
      "Epoch 48/100\n",
      "25/25 [==============================] - 0s 10ms/step - loss: 1.4278 - accuracy: 0.4724 - val_loss: 1.5481 - val_accuracy: 0.4850\n",
      "\n",
      "Epoch 00048: val_loss did not improve from 1.51282\n",
      "Epoch 49/100\n",
      "25/25 [==============================] - 0s 10ms/step - loss: 1.3891 - accuracy: 0.4799 - val_loss: 1.5651 - val_accuracy: 0.4950\n",
      "\n",
      "Epoch 00049: val_loss did not improve from 1.51282\n",
      "Epoch 50/100\n",
      "25/25 [==============================] - 0s 10ms/step - loss: 1.3770 - accuracy: 0.4875 - val_loss: 1.5777 - val_accuracy: 0.4800\n",
      "\n",
      "Epoch 00050: val_loss did not improve from 1.51282\n",
      "Epoch 51/100\n",
      "25/25 [==============================] - 0s 10ms/step - loss: 1.3669 - accuracy: 0.4937 - val_loss: 1.5603 - val_accuracy: 0.4500\n",
      "\n",
      "Epoch 00051: val_loss did not improve from 1.51282\n",
      "Epoch 52/100\n",
      "25/25 [==============================] - 0s 11ms/step - loss: 1.4006 - accuracy: 0.4712 - val_loss: 1.4695 - val_accuracy: 0.5000\n",
      "\n",
      "Epoch 00052: val_loss improved from 1.51282 to 1.46950, saving model to saved_models\\audio_classification_.hdf5\n",
      "Epoch 53/100\n",
      "25/25 [==============================] - 0s 11ms/step - loss: 1.3144 - accuracy: 0.5238 - val_loss: 1.5244 - val_accuracy: 0.4900\n",
      "\n",
      "Epoch 00053: val_loss did not improve from 1.46950\n",
      "Epoch 54/100\n",
      "25/25 [==============================] - 0s 10ms/step - loss: 1.2121 - accuracy: 0.5251 - val_loss: 1.5507 - val_accuracy: 0.4900\n",
      "\n",
      "Epoch 00054: val_loss did not improve from 1.46950\n",
      "Epoch 55/100\n",
      "25/25 [==============================] - 0s 10ms/step - loss: 1.2888 - accuracy: 0.5038 - val_loss: 1.5003 - val_accuracy: 0.5350\n",
      "\n",
      "Epoch 00055: val_loss did not improve from 1.46950\n",
      "Epoch 56/100\n",
      "25/25 [==============================] - 0s 10ms/step - loss: 1.2344 - accuracy: 0.5401 - val_loss: 1.5738 - val_accuracy: 0.5050\n",
      "\n",
      "Epoch 00056: val_loss did not improve from 1.46950\n",
      "Epoch 57/100\n",
      "25/25 [==============================] - 0s 10ms/step - loss: 1.2598 - accuracy: 0.5338 - val_loss: 1.5853 - val_accuracy: 0.5250\n",
      "\n",
      "Epoch 00057: val_loss did not improve from 1.46950\n",
      "Epoch 58/100\n",
      "25/25 [==============================] - 0s 11ms/step - loss: 1.2364 - accuracy: 0.5338 - val_loss: 1.5767 - val_accuracy: 0.4950\n",
      "\n",
      "Epoch 00058: val_loss did not improve from 1.46950\n",
      "Epoch 59/100\n",
      "25/25 [==============================] - 0s 11ms/step - loss: 1.2039 - accuracy: 0.5401 - val_loss: 1.5862 - val_accuracy: 0.4950\n",
      "\n",
      "Epoch 00059: val_loss did not improve from 1.46950\n",
      "Epoch 60/100\n",
      "25/25 [==============================] - 0s 13ms/step - loss: 1.2336 - accuracy: 0.5363 - val_loss: 1.4725 - val_accuracy: 0.5550\n",
      "\n",
      "Epoch 00060: val_loss did not improve from 1.46950\n",
      "Epoch 61/100\n",
      "25/25 [==============================] - 0s 12ms/step - loss: 1.1748 - accuracy: 0.5639 - val_loss: 1.4603 - val_accuracy: 0.5200\n",
      "\n",
      "Epoch 00061: val_loss improved from 1.46950 to 1.46029, saving model to saved_models\\audio_classification_.hdf5\n",
      "Epoch 62/100\n",
      "25/25 [==============================] - 0s 10ms/step - loss: 1.2390 - accuracy: 0.5589 - val_loss: 1.4712 - val_accuracy: 0.5350\n",
      "\n",
      "Epoch 00062: val_loss did not improve from 1.46029\n",
      "Epoch 63/100\n",
      "25/25 [==============================] - 0s 10ms/step - loss: 1.1274 - accuracy: 0.5789 - val_loss: 1.4682 - val_accuracy: 0.5700\n",
      "\n",
      "Epoch 00063: val_loss did not improve from 1.46029\n",
      "Epoch 64/100\n",
      "25/25 [==============================] - 0s 11ms/step - loss: 1.1762 - accuracy: 0.5727 - val_loss: 1.5115 - val_accuracy: 0.5500\n",
      "\n",
      "Epoch 00064: val_loss did not improve from 1.46029\n",
      "Epoch 65/100\n",
      "25/25 [==============================] - 0s 10ms/step - loss: 1.0868 - accuracy: 0.6128 - val_loss: 1.5277 - val_accuracy: 0.5400\n",
      "\n",
      "Epoch 00065: val_loss did not improve from 1.46029\n",
      "Epoch 66/100\n",
      "25/25 [==============================] - 0s 11ms/step - loss: 1.0361 - accuracy: 0.6178 - val_loss: 1.5762 - val_accuracy: 0.5650\n",
      "\n",
      "Epoch 00066: val_loss did not improve from 1.46029\n",
      "Epoch 67/100\n",
      "25/25 [==============================] - 0s 11ms/step - loss: 1.1119 - accuracy: 0.5865 - val_loss: 1.5978 - val_accuracy: 0.5450\n",
      "\n",
      "Epoch 00067: val_loss did not improve from 1.46029\n",
      "Epoch 68/100\n",
      "25/25 [==============================] - 0s 10ms/step - loss: 1.2327 - accuracy: 0.5752 - val_loss: 1.6119 - val_accuracy: 0.5550\n",
      "\n",
      "Epoch 00068: val_loss did not improve from 1.46029\n",
      "Epoch 69/100\n",
      "25/25 [==============================] - 0s 10ms/step - loss: 1.1283 - accuracy: 0.5827 - val_loss: 1.5581 - val_accuracy: 0.5100\n",
      "\n",
      "Epoch 00069: val_loss did not improve from 1.46029\n",
      "Epoch 70/100\n",
      "25/25 [==============================] - 0s 10ms/step - loss: 1.1138 - accuracy: 0.5890 - val_loss: 1.6463 - val_accuracy: 0.5550\n",
      "\n",
      "Epoch 00070: val_loss did not improve from 1.46029\n",
      "Epoch 71/100\n",
      "25/25 [==============================] - 0s 10ms/step - loss: 1.0625 - accuracy: 0.6090 - val_loss: 1.5761 - val_accuracy: 0.5350\n",
      "\n",
      "Epoch 00071: val_loss did not improve from 1.46029\n",
      "Epoch 72/100\n",
      "25/25 [==============================] - 0s 10ms/step - loss: 1.0058 - accuracy: 0.6429 - val_loss: 1.6429 - val_accuracy: 0.5600\n",
      "\n",
      "Epoch 00072: val_loss did not improve from 1.46029\n",
      "Epoch 73/100\n",
      "25/25 [==============================] - 0s 11ms/step - loss: 1.0240 - accuracy: 0.6253 - val_loss: 1.6164 - val_accuracy: 0.5550\n",
      "\n",
      "Epoch 00073: val_loss did not improve from 1.46029\n",
      "Epoch 74/100\n",
      "25/25 [==============================] - 0s 10ms/step - loss: 0.9754 - accuracy: 0.6466 - val_loss: 1.5787 - val_accuracy: 0.5750\n",
      "\n",
      "Epoch 00074: val_loss did not improve from 1.46029\n",
      "Epoch 75/100\n",
      "25/25 [==============================] - 0s 10ms/step - loss: 0.9375 - accuracy: 0.6754 - val_loss: 1.7146 - val_accuracy: 0.5950\n",
      "\n",
      "Epoch 00075: val_loss did not improve from 1.46029\n",
      "Epoch 76/100\n",
      "25/25 [==============================] - 0s 10ms/step - loss: 0.9581 - accuracy: 0.6617 - val_loss: 1.6995 - val_accuracy: 0.5750\n",
      "\n",
      "Epoch 00076: val_loss did not improve from 1.46029\n",
      "Epoch 77/100\n",
      "25/25 [==============================] - 0s 10ms/step - loss: 0.9835 - accuracy: 0.6529 - val_loss: 1.6384 - val_accuracy: 0.5300\n",
      "\n",
      "Epoch 00077: val_loss did not improve from 1.46029\n",
      "Epoch 78/100\n"
     ]
    },
    {
     "name": "stdout",
     "output_type": "stream",
     "text": [
      "25/25 [==============================] - 0s 10ms/step - loss: 0.9941 - accuracy: 0.6504 - val_loss: 1.6141 - val_accuracy: 0.5600\n",
      "\n",
      "Epoch 00078: val_loss did not improve from 1.46029\n",
      "Epoch 79/100\n",
      "25/25 [==============================] - 0s 10ms/step - loss: 0.9725 - accuracy: 0.6591 - val_loss: 1.6469 - val_accuracy: 0.5550\n",
      "\n",
      "Epoch 00079: val_loss did not improve from 1.46029\n",
      "Epoch 80/100\n",
      "25/25 [==============================] - 0s 10ms/step - loss: 0.8883 - accuracy: 0.6742 - val_loss: 1.7951 - val_accuracy: 0.5850\n",
      "\n",
      "Epoch 00080: val_loss did not improve from 1.46029\n",
      "Epoch 81/100\n",
      "25/25 [==============================] - 0s 10ms/step - loss: 0.9490 - accuracy: 0.6742 - val_loss: 1.6494 - val_accuracy: 0.5950\n",
      "\n",
      "Epoch 00081: val_loss did not improve from 1.46029\n",
      "Epoch 82/100\n",
      "25/25 [==============================] - 0s 10ms/step - loss: 0.9442 - accuracy: 0.6754 - val_loss: 1.7575 - val_accuracy: 0.5650\n",
      "\n",
      "Epoch 00082: val_loss did not improve from 1.46029\n",
      "Epoch 83/100\n",
      "25/25 [==============================] - 0s 10ms/step - loss: 0.8493 - accuracy: 0.7055 - val_loss: 1.8073 - val_accuracy: 0.5600\n",
      "\n",
      "Epoch 00083: val_loss did not improve from 1.46029\n",
      "Epoch 84/100\n",
      "25/25 [==============================] - 0s 11ms/step - loss: 0.8241 - accuracy: 0.6992 - val_loss: 1.7388 - val_accuracy: 0.5750\n",
      "\n",
      "Epoch 00084: val_loss did not improve from 1.46029\n",
      "Epoch 85/100\n",
      "25/25 [==============================] - 0s 11ms/step - loss: 0.8380 - accuracy: 0.7043 - val_loss: 1.9962 - val_accuracy: 0.5500\n",
      "\n",
      "Epoch 00085: val_loss did not improve from 1.46029\n",
      "Epoch 86/100\n",
      "25/25 [==============================] - 0s 11ms/step - loss: 0.8441 - accuracy: 0.7105 - val_loss: 1.9774 - val_accuracy: 0.5450\n",
      "\n",
      "Epoch 00086: val_loss did not improve from 1.46029\n",
      "Epoch 87/100\n",
      "25/25 [==============================] - 0s 10ms/step - loss: 0.9214 - accuracy: 0.6880 - val_loss: 1.7915 - val_accuracy: 0.5650\n",
      "\n",
      "Epoch 00087: val_loss did not improve from 1.46029\n",
      "Epoch 88/100\n",
      "25/25 [==============================] - 0s 11ms/step - loss: 0.8669 - accuracy: 0.7143 - val_loss: 1.9623 - val_accuracy: 0.5600\n",
      "\n",
      "Epoch 00088: val_loss did not improve from 1.46029\n",
      "Epoch 89/100\n",
      "25/25 [==============================] - 0s 11ms/step - loss: 0.9336 - accuracy: 0.6754 - val_loss: 1.6860 - val_accuracy: 0.5950\n",
      "\n",
      "Epoch 00089: val_loss did not improve from 1.46029\n",
      "Epoch 90/100\n",
      "25/25 [==============================] - 0s 13ms/step - loss: 0.7962 - accuracy: 0.7180 - val_loss: 2.0682 - val_accuracy: 0.5100\n",
      "\n",
      "Epoch 00090: val_loss did not improve from 1.46029\n",
      "Epoch 91/100\n",
      "25/25 [==============================] - 0s 12ms/step - loss: 0.9346 - accuracy: 0.6892 - val_loss: 1.9051 - val_accuracy: 0.5800\n",
      "\n",
      "Epoch 00091: val_loss did not improve from 1.46029\n",
      "Epoch 92/100\n",
      "25/25 [==============================] - 0s 11ms/step - loss: 0.8720 - accuracy: 0.6967 - val_loss: 1.6688 - val_accuracy: 0.5800\n",
      "\n",
      "Epoch 00092: val_loss did not improve from 1.46029\n",
      "Epoch 93/100\n",
      "25/25 [==============================] - 0s 11ms/step - loss: 0.7775 - accuracy: 0.7143 - val_loss: 1.9496 - val_accuracy: 0.5900\n",
      "\n",
      "Epoch 00093: val_loss did not improve from 1.46029\n",
      "Epoch 94/100\n",
      "25/25 [==============================] - 0s 11ms/step - loss: 0.8010 - accuracy: 0.7306 - val_loss: 1.9023 - val_accuracy: 0.5650\n",
      "\n",
      "Epoch 00094: val_loss did not improve from 1.46029\n",
      "Epoch 95/100\n",
      "25/25 [==============================] - 0s 11ms/step - loss: 0.8699 - accuracy: 0.7043 - val_loss: 1.6597 - val_accuracy: 0.5800\n",
      "\n",
      "Epoch 00095: val_loss did not improve from 1.46029\n",
      "Epoch 96/100\n",
      "25/25 [==============================] - 0s 11ms/step - loss: 0.8095 - accuracy: 0.7206 - val_loss: 1.8297 - val_accuracy: 0.5500\n",
      "\n",
      "Epoch 00096: val_loss did not improve from 1.46029\n",
      "Epoch 97/100\n",
      "25/25 [==============================] - 0s 11ms/step - loss: 0.7336 - accuracy: 0.7506 - val_loss: 1.7173 - val_accuracy: 0.5950\n",
      "\n",
      "Epoch 00097: val_loss did not improve from 1.46029\n",
      "Epoch 98/100\n",
      "25/25 [==============================] - 0s 11ms/step - loss: 0.6977 - accuracy: 0.7619 - val_loss: 1.8230 - val_accuracy: 0.5750\n",
      "\n",
      "Epoch 00098: val_loss did not improve from 1.46029\n",
      "Epoch 99/100\n",
      "25/25 [==============================] - 0s 11ms/step - loss: 0.6459 - accuracy: 0.7782 - val_loss: 2.0068 - val_accuracy: 0.6050\n",
      "\n",
      "Epoch 00099: val_loss did not improve from 1.46029\n",
      "Epoch 100/100\n",
      "25/25 [==============================] - 0s 10ms/step - loss: 0.7515 - accuracy: 0.7281 - val_loss: 1.7639 - val_accuracy: 0.5850\n",
      "\n",
      "Epoch 00100: val_loss did not improve from 1.46029\n",
      "Training completed in time:  0:00:32.124966\n"
     ]
    }
   ],
   "source": [
    "## Trianing my model\n",
    "from tensorflow.keras.callbacks import ModelCheckpoint\n",
    "from datetime import datetime \n",
    "\n",
    "num_epochs = 100\n",
    "num_batch_size = 32\n",
    "\n",
    "checkpointer = ModelCheckpoint(filepath=f'saved_models/audio_classification_.hdf5', verbose=1, save_best_only=True)\n",
    "start = datetime.now()\n",
    "\n",
    "history = model.fit(X_train, y_train, batch_size=num_batch_size, epochs=num_epochs, validation_data=(X_test, y_test), callbacks=[checkpointer], verbose=1)\n",
    "\n",
    "\n",
    "duration = datetime.now() - start\n",
    "print(\"Training completed in time: \", duration)"
   ]
  },
  {
   "cell_type": "code",
   "execution_count": 23,
   "metadata": {
    "colab": {
     "base_uri": "https://localhost:8080/"
    },
    "execution": {
     "iopub.execute_input": "2021-06-24T12:54:21.467209Z",
     "iopub.status.busy": "2021-06-24T12:54:21.466820Z",
     "iopub.status.idle": "2021-06-24T12:54:21.528645Z",
     "shell.execute_reply": "2021-06-24T12:54:21.527621Z",
     "shell.execute_reply.started": "2021-06-24T12:54:21.467173Z"
    },
    "executionInfo": {
     "elapsed": 524,
     "status": "ok",
     "timestamp": 1624560178131,
     "user": {
      "displayName": "Deepranjan Kumar Gupta",
      "photoUrl": "https://lh3.googleusercontent.com/a-/AOh14GhczaFZivsw-TNnL0kbRqPcnzECkDPfExooHM4p=s64",
      "userId": "07698331183229555849"
     },
     "user_tz": -330
    },
    "id": "IJusRAFaxRDc",
    "outputId": "5f0e9cbf-4692-4c89-c025-1e3f48a4073b"
   },
   "outputs": [
    {
     "data": {
      "text/plain": [
       "[1.7638777494430542, 0.5849999785423279]"
      ]
     },
     "execution_count": 23,
     "metadata": {},
     "output_type": "execute_result"
    }
   ],
   "source": [
    "model.evaluate(X_test,y_test,verbose=0)"
   ]
  },
  {
   "cell_type": "code",
   "execution_count": 24,
   "metadata": {
    "colab": {
     "base_uri": "https://localhost:8080/",
     "height": 374
    },
    "executionInfo": {
     "elapsed": 904,
     "status": "ok",
     "timestamp": 1624560181470,
     "user": {
      "displayName": "Deepranjan Kumar Gupta",
      "photoUrl": "https://lh3.googleusercontent.com/a-/AOh14GhczaFZivsw-TNnL0kbRqPcnzECkDPfExooHM4p=s64",
      "userId": "07698331183229555849"
     },
     "user_tz": -330
    },
    "id": "gM6mdwNU53Ha",
    "outputId": "c752d721-8d4b-4217-fb00-477415e37da3"
   },
   "outputs": [
    {
     "data": {
      "image/png": "[encoded data removed]",
      "text/plain": [
       "<Figure size 864x432 with 1 Axes>"
      ]
     },
     "metadata": {
      "needs_background": "light"
     },
     "output_type": "display_data"
    }
   ],
   "source": [
    "pd.DataFrame(history.history).plot(figsize=(12,6))\n",
    "plt.show()"
   ]
  },
  {
   "cell_type": "code",
   "execution_count": 25,
   "metadata": {
    "colab": {
     "base_uri": "https://localhost:8080/"
    },
    "executionInfo": {
     "elapsed": 418,
     "status": "ok",
     "timestamp": 1624560185662,
     "user": {
      "displayName": "Deepranjan Kumar Gupta",
      "photoUrl": "https://lh3.googleusercontent.com/a-/AOh14GhczaFZivsw-TNnL0kbRqPcnzECkDPfExooHM4p=s64",
      "userId": "07698331183229555849"
     },
     "user_tz": -330
    },
    "id": "rgGW4zsIxRDc",
    "outputId": "47d6bb66-0ddc-41f1-ab89-46d75c887f82"
   },
   "outputs": [
    {
     "name": "stderr",
     "output_type": "stream",
     "text": [
      "c:\\users\\tguru\\appdata\\local\\programs\\python\\python39\\lib\\site-packages\\tensorflow\\python\\keras\\engine\\sequential.py:455: UserWarning: `model.predict_classes()` is deprecated and will be removed after 2021-01-01. Please use instead:* `np.argmax(model.predict(x), axis=-1)`,   if your model does multi-class classification   (e.g. if it uses a `softmax` last-layer activation).* `(model.predict(x) > 0.5).astype(\"int32\")`,   if your model does binary classification   (e.g. if it uses a `sigmoid` last-layer activation).\n",
      "  warnings.warn('`model.predict_classes()` is deprecated and '\n"
     ]
    },
    {
     "data": {
      "text/plain": [
       "array([2, 7, 0, 7, 6, 7, 5, 2, 8, 2, 6, 4, 1, 1, 5, 7, 6, 5, 9, 0, 4, 2,\n",
       "       8, 0, 1, 7, 5, 2, 8, 6, 7, 4, 9, 9, 6, 6, 3, 5, 9, 7, 6, 3, 3, 3,\n",
       "       9, 8, 4, 3, 5, 6, 5, 8, 6, 2, 9, 2, 9, 2, 3, 6, 6, 8, 3, 3, 4, 9,\n",
       "       1, 4, 3, 1, 6, 3, 9, 9, 4, 9, 2, 4, 6, 9, 8, 6, 8, 3, 2, 5, 8, 8,\n",
       "       4, 2, 4, 0, 9, 3, 6, 7, 7, 5, 2, 0, 5, 5, 4, 2, 1, 4, 7, 8, 1, 6,\n",
       "       9, 4, 9, 3, 6, 3, 4, 6, 3, 2, 4, 8, 2, 9, 9, 7, 1, 2, 3, 3, 3, 9,\n",
       "       5, 4, 1, 3, 3, 4, 9, 5, 9, 3, 9, 0, 2, 0, 4, 3, 4, 3, 6, 8, 7, 2,\n",
       "       8, 6, 4, 3, 4, 2, 6, 5, 6, 4, 7, 1, 7, 0, 7, 2, 3, 6, 1, 7, 7, 1,\n",
       "       9, 7, 2, 3, 9, 3, 6, 8, 7, 2, 2, 6, 3, 7, 9, 6, 1, 2, 2, 9, 6, 3,\n",
       "       2, 1], dtype=int64)"
      ]
     },
     "execution_count": 25,
     "metadata": {},
     "output_type": "execute_result"
    }
   ],
   "source": [
    "model.predict_classes(X_test)"
   ]
  },
  {
   "cell_type": "code",
   "execution_count": 28,
   "metadata": {},
   "outputs": [
    {
     "name": "stdout",
     "output_type": "stream",
     "text": [
      "[-62.234993   115.17359    -42.7843      54.301395   -24.871058\n",
      "  20.127165   -21.63533     20.841627    -8.395902    20.32247\n",
      " -10.730717     9.666507   -14.542503     6.930495    -7.477543\n",
      "   5.972606    -3.473475     6.566592    -6.5757904    2.9632413\n",
      "  -0.57955104  -0.50075704  -4.443025     2.410923    -1.5684437\n",
      "  -1.1950624   -1.6032081   -2.9379685   -0.61058384  -2.043401\n",
      "   0.8284437    0.51315373  -0.13800889  -3.1573064    1.8865256\n",
      "  -0.27951345   1.4392793    0.8349834    1.1822544   -1.532092  ]\n",
      "[[-62.234993   115.17359    -42.7843      54.301395   -24.871058\n",
      "   20.127165   -21.63533     20.841627    -8.395902    20.32247\n",
      "  -10.730717     9.666507   -14.542503     6.930495    -7.477543\n",
      "    5.972606    -3.473475     6.566592    -6.5757904    2.9632413\n",
      "   -0.57955104  -0.50075704  -4.443025     2.410923    -1.5684437\n",
      "   -1.1950624   -1.6032081   -2.9379685   -0.61058384  -2.043401\n",
      "    0.8284437    0.51315373  -0.13800889  -3.1573064    1.8865256\n",
      "   -0.27951345   1.4392793    0.8349834    1.1822544   -1.532092  ]]\n",
      "(1, 40)\n",
      "[6]\n"
     ]
    },
    {
     "data": {
      "text/plain": [
       "'metal'"
      ]
     },
     "execution_count": 28,
     "metadata": {},
     "output_type": "execute_result"
    }
   ],
   "source": [
    "filename=\"Data\\genres_original\\metal\\metal.00002.wav\"\n",
    "audio, sample_rate = librosa.load(filename, res_type='kaiser_fast') \n",
    "mfccs_features = librosa.feature.mfcc(y=audio, sr=sample_rate, n_mfcc=40)\n",
    "mfccs_scaled_features = np.mean(mfccs_features.T,axis=0)\n",
    "\n",
    "print(mfccs_scaled_features)\n",
    "mfccs_scaled_features=mfccs_scaled_features.reshape(1,-1)\n",
    "print(mfccs_scaled_features)\n",
    "print(mfccs_scaled_features.shape)\n",
    "predicted_label=model.predict_classes(mfccs_scaled_features)\n",
    "print(predicted_label)\n",
    "prediction_class = labelencoder.inverse_transform(predicted_label) \n",
    "prediction_class[0]"
   ]
  },
  {
   "cell_type": "code",
   "execution_count": null,
   "metadata": {},
   "outputs": [],
   "source": []
  }
 ],
 "metadata": {
  "colab": {
   "collapsed_sections": [],
   "name": "Music_Genre_Classification.ipynb",
   "provenance": []
  },
  "kernelspec": {
   "display_name": "Python 3 (ipykernel)",
   "language": "python",
   "name": "python3"
  },
  "language_info": {
   "codemirror_mode": {
    "name": "ipython",
    "version": 3
   },
   "file_extension": ".py",
   "mimetype": "text/x-python",
   "name": "python",
   "nbconvert_exporter": "python",
   "pygments_lexer": "ipython3",
   "version": "3.9.6"
  }
 },
 "nbformat": 4,
 "nbformat_minor": 1
}